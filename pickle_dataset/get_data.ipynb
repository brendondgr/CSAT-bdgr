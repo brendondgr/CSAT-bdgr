{
 "cells": [
  {
   "cell_type": "code",
   "execution_count": 3,
   "metadata": {},
   "outputs": [],
   "source": [
    "import gdown"
   ]
  },
  {
   "cell_type": "code",
   "execution_count": 4,
   "metadata": {},
   "outputs": [],
   "source": [
    "file_id = \"1GSaanysnf2dYD6pqomuUOGOHfxyfO54W\"\n",
    "destination = \"pickle.zip\"\n",
    "url = f\"https://drive.google.com/uc?id={file_id}\""
   ]
  },
  {
   "cell_type": "code",
   "execution_count": 5,
   "metadata": {},
   "outputs": [
    {
     "name": "stderr",
     "output_type": "stream",
     "text": [
      "Downloading...\n",
      "From (original): https://drive.google.com/uc?id=1GSaanysnf2dYD6pqomuUOGOHfxyfO54W\n",
      "From (redirected): https://drive.google.com/uc?id=1GSaanysnf2dYD6pqomuUOGOHfxyfO54W&confirm=t&uuid=dc9cc5ee-2c64-48f9-8202-4556dbbc0eb0\n",
      "To: /work/bdgr/CSAT_2/pickle_dataset/pickle.zip\n",
      "100%|██████████| 3.87G/3.87G [00:37<00:00, 103MB/s] \n"
     ]
    },
    {
     "data": {
      "text/plain": [
       "'pickle.zip'"
      ]
     },
     "execution_count": 5,
     "metadata": {},
     "output_type": "execute_result"
    }
   ],
   "source": [
    "gdown.download(url, destination, quiet=False)"
   ]
  },
  {
   "cell_type": "code",
   "execution_count": 6,
   "metadata": {},
   "outputs": [],
   "source": [
    "import zipfile\n",
    "import os\n",
    "\n",
    "# Ensure the destination directory exists\n",
    "os.makedirs(\"../pickle/\", exist_ok=True)\n",
    "\n",
    "# Extract the contents of the zip file\n",
    "with zipfile.ZipFile(destination, 'r') as zip_ref:\n",
    "    zip_ref.extractall(\"../pickle/\")"
   ]
  },
  {
   "cell_type": "code",
   "execution_count": 8,
   "metadata": {},
   "outputs": [],
   "source": [
    "import shutil\n",
    "import os\n",
    "\n",
    "source_dir = \"../pickle/pickle/\"\n",
    "destination_dir = \"../pickle/\"\n",
    "\n",
    "# List all files in the source directory\n",
    "files = os.listdir(source_dir)\n",
    "\n",
    "# Move each file to the destination directory\n",
    "for file_name in files:\n",
    "    shutil.move(os.path.join(source_dir, file_name), destination_dir)\n",
    "\n",
    "# Delete ../pickle/pickle/ directory\n",
    "os.rmdir(source_dir)"
   ]
  }
 ],
 "metadata": {
  "kernelspec": {
   "display_name": "bdgr_torch",
   "language": "python",
   "name": "python3"
  },
  "language_info": {
   "codemirror_mode": {
    "name": "ipython",
    "version": 3
   },
   "file_extension": ".py",
   "mimetype": "text/x-python",
   "name": "python",
   "nbconvert_exporter": "python",
   "pygments_lexer": "ipython3",
   "version": "3.10.16"
  }
 },
 "nbformat": 4,
 "nbformat_minor": 2
}
